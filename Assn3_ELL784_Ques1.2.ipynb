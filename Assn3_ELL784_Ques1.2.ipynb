{
 "cells": [
  {
   "cell_type": "code",
   "execution_count": 22,
   "id": "3f44d03a",
   "metadata": {},
   "outputs": [],
   "source": [
    "import numpy as np\n",
    "import pandas as pd\n",
    "import matplotlib.pyplot as plt\n",
    "import tensorflow as tf\n",
    "from tensorflow import keras\n",
    "import matplotlib.pyplot as plt\n",
    "%matplotlib inline\n",
    "\n",
    "df=pd.read_csv(r'C:\\Users\\garga\\Downloads\\feat_25_.csv',header=None)\n",
    "labels=df.iloc[:,25]\n",
    "df_=df.iloc[:,:25]"
   ]
  },
  {
   "cell_type": "code",
   "execution_count": 23,
   "id": "4604e39e",
   "metadata": {},
   "outputs": [],
   "source": [
    "from sklearn.model_selection import train_test_split\n",
    "X_train, X_test, y_train, y_test = train_test_split(df_, labels, test_size=0.2, random_state = 2)\n"
   ]
  },
  {
   "cell_type": "code",
   "execution_count": 24,
   "id": "2ad19ff9",
   "metadata": {},
   "outputs": [],
   "source": [
    "X_train=np.array(X_train)\n",
    "X_test=np.array(X_test)\n",
    "y_train=np.array(y_train)\n",
    "y_test=np.array(y_test)\n"
   ]
  },
  {
   "cell_type": "markdown",
   "id": "367330dc",
   "metadata": {},
   "source": [
    "### Simple logistic model. No hidden layer"
   ]
  },
  {
   "cell_type": "code",
   "execution_count": 25,
   "id": "1ae77469",
   "metadata": {},
   "outputs": [
    {
     "name": "stdout",
     "output_type": "stream",
     "text": [
      "Epoch 1/100\n",
      "75/75 [==============================] - 0s 1ms/step - loss: 2.7847 - accuracy: 0.1146\n",
      "Epoch 2/100\n",
      "75/75 [==============================] - 0s 1ms/step - loss: 2.4208 - accuracy: 0.1883\n",
      "Epoch 3/100\n",
      "75/75 [==============================] - 0s 972us/step - loss: 2.1087 - accuracy: 0.2821\n",
      "Epoch 4/100\n",
      "75/75 [==============================] - 0s 1ms/step - loss: 1.8449 - accuracy: 0.3767\n",
      "Epoch 5/100\n",
      "75/75 [==============================] - 0s 1ms/step - loss: 1.6261 - accuracy: 0.4858\n",
      "Epoch 6/100\n",
      "75/75 [==============================] - 0s 1ms/step - loss: 1.4474 - accuracy: 0.5783\n",
      "Epoch 7/100\n",
      "75/75 [==============================] - 0s 1ms/step - loss: 1.3023 - accuracy: 0.6367\n",
      "Epoch 8/100\n",
      "75/75 [==============================] - 0s 1ms/step - loss: 1.1854 - accuracy: 0.6837\n",
      "Epoch 9/100\n",
      "75/75 [==============================] - 0s 1ms/step - loss: 1.0907 - accuracy: 0.7196\n",
      "Epoch 10/100\n",
      "75/75 [==============================] - 0s 1ms/step - loss: 1.0138 - accuracy: 0.7429\n",
      "Epoch 11/100\n",
      "75/75 [==============================] - 0s 1ms/step - loss: 0.9503 - accuracy: 0.7629\n",
      "Epoch 12/100\n",
      "75/75 [==============================] - 0s 1ms/step - loss: 0.8976 - accuracy: 0.7821\n",
      "Epoch 13/100\n",
      "75/75 [==============================] - 0s 1ms/step - loss: 0.8535 - accuracy: 0.7917\n",
      "Epoch 14/100\n",
      "75/75 [==============================] - 0s 1ms/step - loss: 0.8163 - accuracy: 0.8037\n",
      "Epoch 15/100\n",
      "75/75 [==============================] - 0s 1ms/step - loss: 0.7841 - accuracy: 0.8071\n",
      "Epoch 16/100\n",
      "75/75 [==============================] - 0s 1ms/step - loss: 0.7561 - accuracy: 0.8117\n",
      "Epoch 17/100\n",
      "75/75 [==============================] - 0s 1ms/step - loss: 0.7319 - accuracy: 0.8175\n",
      "Epoch 18/100\n",
      "75/75 [==============================] - 0s 1ms/step - loss: 0.7101 - accuracy: 0.8208\n",
      "Epoch 19/100\n",
      "75/75 [==============================] - 0s 1ms/step - loss: 0.6914 - accuracy: 0.8204\n",
      "Epoch 20/100\n",
      "75/75 [==============================] - 0s 964us/step - loss: 0.6741 - accuracy: 0.8250\n",
      "Epoch 21/100\n",
      "75/75 [==============================] - 0s 1ms/step - loss: 0.6586 - accuracy: 0.8263\n",
      "Epoch 22/100\n",
      "75/75 [==============================] - 0s 958us/step - loss: 0.6447 - accuracy: 0.8300\n",
      "Epoch 23/100\n",
      "75/75 [==============================] - 0s 1ms/step - loss: 0.6321 - accuracy: 0.8300\n",
      "Epoch 24/100\n",
      "75/75 [==============================] - 0s 1ms/step - loss: 0.6206 - accuracy: 0.8329\n",
      "Epoch 25/100\n",
      "75/75 [==============================] - 0s 980us/step - loss: 0.6097 - accuracy: 0.8346\n",
      "Epoch 26/100\n",
      "75/75 [==============================] - 0s 958us/step - loss: 0.5999 - accuracy: 0.8371\n",
      "Epoch 27/100\n",
      "75/75 [==============================] - 0s 1ms/step - loss: 0.5907 - accuracy: 0.8371\n",
      "Epoch 28/100\n",
      "75/75 [==============================] - 0s 1ms/step - loss: 0.5822 - accuracy: 0.8388\n",
      "Epoch 29/100\n",
      "75/75 [==============================] - 0s 1ms/step - loss: 0.5743 - accuracy: 0.8417\n",
      "Epoch 30/100\n",
      "75/75 [==============================] - 0s 1ms/step - loss: 0.5669 - accuracy: 0.8421\n",
      "Epoch 31/100\n",
      "75/75 [==============================] - 0s 980us/step - loss: 0.5600 - accuracy: 0.8442\n",
      "Epoch 32/100\n",
      "75/75 [==============================] - 0s 987us/step - loss: 0.5535 - accuracy: 0.8450\n",
      "Epoch 33/100\n",
      "75/75 [==============================] - 0s 1ms/step - loss: 0.5476 - accuracy: 0.8475\n",
      "Epoch 34/100\n",
      "75/75 [==============================] - 0s 991us/step - loss: 0.5416 - accuracy: 0.8483\n",
      "Epoch 35/100\n",
      "75/75 [==============================] - 0s 1ms/step - loss: 0.5361 - accuracy: 0.8496\n",
      "Epoch 36/100\n",
      "75/75 [==============================] - 0s 973us/step - loss: 0.5312 - accuracy: 0.8496\n",
      "Epoch 37/100\n",
      "75/75 [==============================] - 0s 977us/step - loss: 0.5260 - accuracy: 0.8508\n",
      "Epoch 38/100\n",
      "75/75 [==============================] - 0s 988us/step - loss: 0.5216 - accuracy: 0.8517\n",
      "Epoch 39/100\n",
      "75/75 [==============================] - 0s 1ms/step - loss: 0.5172 - accuracy: 0.8533\n",
      "Epoch 40/100\n",
      "75/75 [==============================] - 0s 1ms/step - loss: 0.5132 - accuracy: 0.8529\n",
      "Epoch 41/100\n",
      "75/75 [==============================] - 0s 953us/step - loss: 0.5092 - accuracy: 0.8542\n",
      "Epoch 42/100\n",
      "75/75 [==============================] - 0s 979us/step - loss: 0.5051 - accuracy: 0.8567\n",
      "Epoch 43/100\n",
      "75/75 [==============================] - 0s 928us/step - loss: 0.5017 - accuracy: 0.8575\n",
      "Epoch 44/100\n",
      "75/75 [==============================] - 0s 993us/step - loss: 0.4981 - accuracy: 0.8579\n",
      "Epoch 45/100\n",
      "75/75 [==============================] - 0s 972us/step - loss: 0.4948 - accuracy: 0.8583\n",
      "Epoch 46/100\n",
      "75/75 [==============================] - 0s 1ms/step - loss: 0.4918 - accuracy: 0.8571\n",
      "Epoch 47/100\n",
      "75/75 [==============================] - 0s 1ms/step - loss: 0.4888 - accuracy: 0.8587\n",
      "Epoch 48/100\n",
      "75/75 [==============================] - 0s 975us/step - loss: 0.4859 - accuracy: 0.8587\n",
      "Epoch 49/100\n",
      "75/75 [==============================] - 0s 963us/step - loss: 0.4830 - accuracy: 0.8604\n",
      "Epoch 50/100\n",
      "75/75 [==============================] - 0s 990us/step - loss: 0.4804 - accuracy: 0.8608\n",
      "Epoch 51/100\n",
      "75/75 [==============================] - 0s 1ms/step - loss: 0.4778 - accuracy: 0.8629\n",
      "Epoch 52/100\n",
      "75/75 [==============================] - 0s 975us/step - loss: 0.4753 - accuracy: 0.8629\n",
      "Epoch 53/100\n",
      "75/75 [==============================] - 0s 1ms/step - loss: 0.4730 - accuracy: 0.8629\n",
      "Epoch 54/100\n",
      "75/75 [==============================] - 0s 944us/step - loss: 0.4708 - accuracy: 0.8650\n",
      "Epoch 55/100\n",
      "75/75 [==============================] - 0s 945us/step - loss: 0.4685 - accuracy: 0.8662\n",
      "Epoch 56/100\n",
      "75/75 [==============================] - 0s 968us/step - loss: 0.4664 - accuracy: 0.8642\n",
      "Epoch 57/100\n",
      "75/75 [==============================] - 0s 939us/step - loss: 0.4646 - accuracy: 0.8654\n",
      "Epoch 58/100\n",
      "75/75 [==============================] - 0s 913us/step - loss: 0.4624 - accuracy: 0.8658\n",
      "Epoch 59/100\n",
      "75/75 [==============================] - 0s 894us/step - loss: 0.4606 - accuracy: 0.8667\n",
      "Epoch 60/100\n",
      "75/75 [==============================] - 0s 886us/step - loss: 0.4587 - accuracy: 0.8667\n",
      "Epoch 61/100\n",
      "75/75 [==============================] - 0s 879us/step - loss: 0.4570 - accuracy: 0.8667\n",
      "Epoch 62/100\n",
      "75/75 [==============================] - 0s 902us/step - loss: 0.4552 - accuracy: 0.8671\n",
      "Epoch 63/100\n",
      "75/75 [==============================] - 0s 899us/step - loss: 0.4535 - accuracy: 0.8675\n",
      "Epoch 64/100\n",
      "75/75 [==============================] - 0s 900us/step - loss: 0.4522 - accuracy: 0.8671\n",
      "Epoch 65/100\n",
      "75/75 [==============================] - 0s 893us/step - loss: 0.4506 - accuracy: 0.8687\n",
      "Epoch 66/100\n",
      "75/75 [==============================] - 0s 915us/step - loss: 0.4493 - accuracy: 0.8675\n",
      "Epoch 67/100\n",
      "75/75 [==============================] - 0s 977us/step - loss: 0.4476 - accuracy: 0.8683\n",
      "Epoch 68/100\n",
      "75/75 [==============================] - 0s 914us/step - loss: 0.4463 - accuracy: 0.8679\n",
      "Epoch 69/100\n",
      "75/75 [==============================] - 0s 933us/step - loss: 0.4450 - accuracy: 0.8683\n",
      "Epoch 70/100\n",
      "75/75 [==============================] - 0s 904us/step - loss: 0.4436 - accuracy: 0.8692\n",
      "Epoch 71/100\n",
      "75/75 [==============================] - 0s 901us/step - loss: 0.4422 - accuracy: 0.8683\n",
      "Epoch 72/100\n",
      "75/75 [==============================] - 0s 974us/step - loss: 0.4412 - accuracy: 0.8675\n",
      "Epoch 73/100\n",
      "75/75 [==============================] - 0s 922us/step - loss: 0.4399 - accuracy: 0.8696\n",
      "Epoch 74/100\n",
      "75/75 [==============================] - 0s 902us/step - loss: 0.4387 - accuracy: 0.8700\n",
      "Epoch 75/100\n",
      "75/75 [==============================] - 0s 1ms/step - loss: 0.4376 - accuracy: 0.8700\n",
      "Epoch 76/100\n",
      "75/75 [==============================] - 0s 931us/step - loss: 0.4365 - accuracy: 0.8683\n",
      "Epoch 77/100\n",
      "75/75 [==============================] - 0s 969us/step - loss: 0.4356 - accuracy: 0.8696\n",
      "Epoch 78/100\n",
      "75/75 [==============================] - 0s 941us/step - loss: 0.4345 - accuracy: 0.8692\n",
      "Epoch 79/100\n",
      "75/75 [==============================] - 0s 938us/step - loss: 0.4335 - accuracy: 0.8692\n",
      "Epoch 80/100\n",
      "75/75 [==============================] - 0s 1ms/step - loss: 0.4326 - accuracy: 0.8700\n",
      "Epoch 81/100\n",
      "75/75 [==============================] - 0s 936us/step - loss: 0.4317 - accuracy: 0.8708\n",
      "Epoch 82/100\n",
      "75/75 [==============================] - 0s 898us/step - loss: 0.4304 - accuracy: 0.8708\n",
      "Epoch 83/100\n",
      "75/75 [==============================] - 0s 918us/step - loss: 0.4298 - accuracy: 0.8704\n",
      "Epoch 84/100\n",
      "75/75 [==============================] - 0s 912us/step - loss: 0.4288 - accuracy: 0.8708\n",
      "Epoch 85/100\n",
      "75/75 [==============================] - 0s 938us/step - loss: 0.4281 - accuracy: 0.8708\n",
      "Epoch 86/100\n",
      "75/75 [==============================] - 0s 874us/step - loss: 0.4272 - accuracy: 0.8712\n",
      "Epoch 87/100\n",
      "75/75 [==============================] - 0s 858us/step - loss: 0.4263 - accuracy: 0.8717\n",
      "Epoch 88/100\n",
      "75/75 [==============================] - 0s 888us/step - loss: 0.4257 - accuracy: 0.8704\n",
      "Epoch 89/100\n",
      "75/75 [==============================] - 0s 878us/step - loss: 0.4249 - accuracy: 0.8696\n",
      "Epoch 90/100\n",
      "75/75 [==============================] - 0s 879us/step - loss: 0.4241 - accuracy: 0.8700\n",
      "Epoch 91/100\n",
      "75/75 [==============================] - 0s 897us/step - loss: 0.4236 - accuracy: 0.8725\n",
      "Epoch 92/100\n",
      "75/75 [==============================] - 0s 924us/step - loss: 0.4229 - accuracy: 0.8708\n",
      "Epoch 93/100\n",
      "75/75 [==============================] - 0s 874us/step - loss: 0.4220 - accuracy: 0.8708\n",
      "Epoch 94/100\n",
      "75/75 [==============================] - 0s 887us/step - loss: 0.4213 - accuracy: 0.8712\n",
      "Epoch 95/100\n",
      "75/75 [==============================] - 0s 901us/step - loss: 0.4205 - accuracy: 0.8708\n",
      "Epoch 96/100\n",
      "75/75 [==============================] - 0s 888us/step - loss: 0.4201 - accuracy: 0.8717\n",
      "Epoch 97/100\n",
      "75/75 [==============================] - 0s 872us/step - loss: 0.4194 - accuracy: 0.8717\n",
      "Epoch 98/100\n",
      "75/75 [==============================] - 0s 902us/step - loss: 0.4188 - accuracy: 0.8725\n",
      "Epoch 99/100\n",
      "75/75 [==============================] - 0s 895us/step - loss: 0.4183 - accuracy: 0.8721\n",
      "Epoch 100/100\n",
      "75/75 [==============================] - 0s 890us/step - loss: 0.4176 - accuracy: 0.8733\n"
     ]
    },
    {
     "data": {
      "text/plain": [
       "<keras.callbacks.History at 0x2670c0ccca0>"
      ]
     },
     "execution_count": 25,
     "metadata": {},
     "output_type": "execute_result"
    }
   ],
   "source": [
    "model = keras.Sequential([\n",
    "    keras.layers.Dense(10, input_shape=(25,), activation='sigmoid')\n",
    "])\n",
    "\n",
    "model.compile(optimizer='adam',\n",
    "              loss='sparse_categorical_crossentropy',\n",
    "              metrics=['accuracy'])\n",
    "\n",
    "model.fit(X_train, y_train, epochs=100)"
   ]
  },
  {
   "cell_type": "code",
   "execution_count": 26,
   "id": "039a89c8",
   "metadata": {},
   "outputs": [
    {
     "name": "stdout",
     "output_type": "stream",
     "text": [
      "19/19 [==============================] - 0s 2ms/step - loss: 0.4996 - accuracy: 0.8500\n"
     ]
    },
    {
     "data": {
      "text/plain": [
       "[0.4995981454849243, 0.8500000238418579]"
      ]
     },
     "execution_count": 26,
     "metadata": {},
     "output_type": "execute_result"
    }
   ],
   "source": [
    "model.evaluate(X_test, y_test)"
   ]
  },
  {
   "cell_type": "code",
   "execution_count": 27,
   "id": "f8fae6fa",
   "metadata": {},
   "outputs": [
    {
     "name": "stdout",
     "output_type": "stream",
     "text": [
      "19/19 [==============================] - 0s 843us/step\n"
     ]
    }
   ],
   "source": [
    "y_predicted=model.predict(X_test)"
   ]
  },
  {
   "cell_type": "code",
   "execution_count": 28,
   "id": "7ba9c1c5",
   "metadata": {},
   "outputs": [],
   "source": [
    "y_predicted_labels = [np.argmax(i) for i in y_predicted]"
   ]
  },
  {
   "cell_type": "code",
   "execution_count": 29,
   "id": "dbff5ec2",
   "metadata": {},
   "outputs": [
    {
     "data": {
      "text/plain": [
       "Text(69.0, 0.5, 'Truth')"
      ]
     },
     "execution_count": 29,
     "metadata": {},
     "output_type": "execute_result"
    },
    {
     "data": {
      "image/png": "[encoded data removed]",
      "text/plain": [
       "<Figure size 720x504 with 2 Axes>"
      ]
     },
     "metadata": {
      "needs_background": "light"
     },
     "output_type": "display_data"
    }
   ],
   "source": [
    "import seaborn as sn\n",
    "plt.figure(figsize = (10,7))\n",
    "cm = tf.math.confusion_matrix(labels=y_test,predictions=y_predicted_labels)\n",
    "sn.heatmap(cm, annot=True, fmt='d')\n",
    "plt.xlabel('Predicted')\n",
    "plt.ylabel('Truth')"
   ]
  },
  {
   "cell_type": "markdown",
   "id": "614268e1",
   "metadata": {},
   "source": [
    "### Model with added one hidden layer to see if accuracy improves or not"
   ]
  },
  {
   "cell_type": "code",
   "execution_count": 30,
   "id": "c74565b6",
   "metadata": {},
   "outputs": [
    {
     "name": "stdout",
     "output_type": "stream",
     "text": [
      "Epoch 1/50\n",
      "75/75 [==============================] - 0s 1ms/step - loss: 2.0154 - accuracy: 0.3562\n",
      "Epoch 2/50\n",
      "75/75 [==============================] - 0s 1ms/step - loss: 1.2125 - accuracy: 0.7708\n",
      "Epoch 3/50\n",
      "75/75 [==============================] - 0s 1ms/step - loss: 0.7881 - accuracy: 0.8358\n",
      "Epoch 4/50\n",
      "75/75 [==============================] - 0s 1ms/step - loss: 0.5929 - accuracy: 0.8554\n",
      "Epoch 5/50\n",
      "75/75 [==============================] - 0s 1ms/step - loss: 0.4890 - accuracy: 0.8729\n",
      "Epoch 6/50\n",
      "75/75 [==============================] - 0s 1ms/step - loss: 0.4258 - accuracy: 0.8929\n",
      "Epoch 7/50\n",
      "75/75 [==============================] - 0s 1ms/step - loss: 0.3813 - accuracy: 0.9042\n",
      "Epoch 8/50\n",
      "75/75 [==============================] - 0s 1ms/step - loss: 0.3469 - accuracy: 0.9100\n",
      "Epoch 9/50\n",
      "75/75 [==============================] - 0s 1ms/step - loss: 0.3193 - accuracy: 0.9142\n",
      "Epoch 10/50\n",
      "75/75 [==============================] - 0s 1ms/step - loss: 0.2962 - accuracy: 0.9225\n",
      "Epoch 11/50\n",
      "75/75 [==============================] - 0s 1ms/step - loss: 0.2767 - accuracy: 0.9262\n",
      "Epoch 12/50\n",
      "75/75 [==============================] - 0s 1ms/step - loss: 0.2596 - accuracy: 0.9292\n",
      "Epoch 13/50\n",
      "75/75 [==============================] - 0s 1ms/step - loss: 0.2439 - accuracy: 0.9354\n",
      "Epoch 14/50\n",
      "75/75 [==============================] - 0s 1ms/step - loss: 0.2285 - accuracy: 0.9396\n",
      "Epoch 15/50\n",
      "75/75 [==============================] - 0s 1ms/step - loss: 0.2172 - accuracy: 0.9454\n",
      "Epoch 16/50\n",
      "75/75 [==============================] - 0s 1ms/step - loss: 0.2051 - accuracy: 0.9471\n",
      "Epoch 17/50\n",
      "75/75 [==============================] - 0s 1ms/step - loss: 0.1937 - accuracy: 0.9483\n",
      "Epoch 18/50\n",
      "75/75 [==============================] - 0s 999us/step - loss: 0.1834 - accuracy: 0.9521\n",
      "Epoch 19/50\n",
      "75/75 [==============================] - 0s 1ms/step - loss: 0.1718 - accuracy: 0.9567\n",
      "Epoch 20/50\n",
      "75/75 [==============================] - 0s 1ms/step - loss: 0.1632 - accuracy: 0.9613\n",
      "Epoch 21/50\n",
      "75/75 [==============================] - 0s 1ms/step - loss: 0.1547 - accuracy: 0.9592\n",
      "Epoch 22/50\n",
      "75/75 [==============================] - 0s 1ms/step - loss: 0.1461 - accuracy: 0.9654\n",
      "Epoch 23/50\n",
      "75/75 [==============================] - 0s 1ms/step - loss: 0.1379 - accuracy: 0.9675\n",
      "Epoch 24/50\n",
      "75/75 [==============================] - 0s 1ms/step - loss: 0.1313 - accuracy: 0.9692\n",
      "Epoch 25/50\n",
      "75/75 [==============================] - 0s 989us/step - loss: 0.1244 - accuracy: 0.9725\n",
      "Epoch 26/50\n",
      "75/75 [==============================] - 0s 1ms/step - loss: 0.1176 - accuracy: 0.9750\n",
      "Epoch 27/50\n",
      "75/75 [==============================] - 0s 1ms/step - loss: 0.1114 - accuracy: 0.9804\n",
      "Epoch 28/50\n",
      "75/75 [==============================] - 0s 1ms/step - loss: 0.1048 - accuracy: 0.9829\n",
      "Epoch 29/50\n",
      "75/75 [==============================] - 0s 1ms/step - loss: 0.0993 - accuracy: 0.9825\n",
      "Epoch 30/50\n",
      "75/75 [==============================] - 0s 1ms/step - loss: 0.0945 - accuracy: 0.9842\n",
      "Epoch 31/50\n",
      "75/75 [==============================] - 0s 999us/step - loss: 0.0890 - accuracy: 0.9858\n",
      "Epoch 32/50\n",
      "75/75 [==============================] - 0s 1ms/step - loss: 0.0841 - accuracy: 0.9867\n",
      "Epoch 33/50\n",
      "75/75 [==============================] - 0s 1ms/step - loss: 0.0797 - accuracy: 0.9896\n",
      "Epoch 34/50\n",
      "75/75 [==============================] - 0s 996us/step - loss: 0.0758 - accuracy: 0.9908\n",
      "Epoch 35/50\n",
      "75/75 [==============================] - 0s 1ms/step - loss: 0.0717 - accuracy: 0.9917\n",
      "Epoch 36/50\n",
      "75/75 [==============================] - 0s 1ms/step - loss: 0.0686 - accuracy: 0.9908\n",
      "Epoch 37/50\n",
      "75/75 [==============================] - 0s 1ms/step - loss: 0.0641 - accuracy: 0.9937\n",
      "Epoch 38/50\n",
      "75/75 [==============================] - 0s 1ms/step - loss: 0.0612 - accuracy: 0.9933\n",
      "Epoch 39/50\n",
      "75/75 [==============================] - 0s 976us/step - loss: 0.0579 - accuracy: 0.9946\n",
      "Epoch 40/50\n",
      "75/75 [==============================] - 0s 1ms/step - loss: 0.0545 - accuracy: 0.9950\n",
      "Epoch 41/50\n",
      "75/75 [==============================] - 0s 1ms/step - loss: 0.0518 - accuracy: 0.9950\n",
      "Epoch 42/50\n",
      "75/75 [==============================] - 0s 1ms/step - loss: 0.0488 - accuracy: 0.9971\n",
      "Epoch 43/50\n",
      "75/75 [==============================] - 0s 1ms/step - loss: 0.0463 - accuracy: 0.9971\n",
      "Epoch 44/50\n",
      "75/75 [==============================] - 0s 1ms/step - loss: 0.0440 - accuracy: 0.9975\n",
      "Epoch 45/50\n",
      "75/75 [==============================] - 0s 1ms/step - loss: 0.0419 - accuracy: 0.9975\n",
      "Epoch 46/50\n",
      "75/75 [==============================] - 0s 1ms/step - loss: 0.0399 - accuracy: 0.9979\n",
      "Epoch 47/50\n",
      "75/75 [==============================] - 0s 1ms/step - loss: 0.0377 - accuracy: 0.9979\n",
      "Epoch 48/50\n",
      "75/75 [==============================] - 0s 1ms/step - loss: 0.0359 - accuracy: 0.9975\n",
      "Epoch 49/50\n",
      "75/75 [==============================] - 0s 1ms/step - loss: 0.0340 - accuracy: 0.9979\n",
      "Epoch 50/50\n",
      "75/75 [==============================] - 0s 1ms/step - loss: 0.0323 - accuracy: 0.9983\n"
     ]
    },
    {
     "data": {
      "text/plain": [
       "<keras.callbacks.History at 0x2670d349ca0>"
      ]
     },
     "execution_count": 30,
     "metadata": {},
     "output_type": "execute_result"
    }
   ],
   "source": [
    "model2 = keras.Sequential([\n",
    "    keras.layers.Dense(100, input_shape=(25,), activation='relu'),\n",
    "    keras.layers.Dense(10, activation='sigmoid')\n",
    "])\n",
    "\n",
    "model2.compile(optimizer='adam',\n",
    "              loss='sparse_categorical_crossentropy',\n",
    "              metrics=['accuracy'])\n",
    "\n",
    "model2.fit(X_train, y_train, epochs=50)"
   ]
  },
  {
   "cell_type": "code",
   "execution_count": 31,
   "id": "52c020b0",
   "metadata": {},
   "outputs": [
    {
     "name": "stdout",
     "output_type": "stream",
     "text": [
      "19/19 [==============================] - 0s 2ms/step - loss: 0.2765 - accuracy: 0.9167\n"
     ]
    },
    {
     "data": {
      "text/plain": [
       "[0.2764602303504944, 0.9166666865348816]"
      ]
     },
     "execution_count": 31,
     "metadata": {},
     "output_type": "execute_result"
    }
   ],
   "source": [
    "model2.evaluate(X_test,y_test)"
   ]
  },
  {
   "cell_type": "code",
   "execution_count": 32,
   "id": "0e44f067",
   "metadata": {},
   "outputs": [
    {
     "name": "stdout",
     "output_type": "stream",
     "text": [
      "19/19 [==============================] - 0s 2ms/step\n"
     ]
    },
    {
     "data": {
      "text/plain": [
       "Text(69.0, 0.5, 'Truth')"
      ]
     },
     "execution_count": 32,
     "metadata": {},
     "output_type": "execute_result"
    },
    {
     "data": {
      "image/png": "[encoded data removed]",
      "text/plain": [
       "<Figure size 720x504 with 2 Axes>"
      ]
     },
     "metadata": {
      "needs_background": "light"
     },
     "output_type": "display_data"
    }
   ],
   "source": [
    "y_predicted = model2.predict(X_test)\n",
    "y_predicted_labels = [np.argmax(i) for i in y_predicted]\n",
    "cm = tf.math.confusion_matrix(labels=y_test,predictions=y_predicted_labels)\n",
    "\n",
    "plt.figure(figsize = (10,7))\n",
    "sn.heatmap(cm, annot=True, fmt='d')\n",
    "plt.xlabel('Predicted')\n",
    "plt.ylabel('Truth')"
   ]
  },
  {
   "cell_type": "markdown",
   "id": "1c33c20e",
   "metadata": {},
   "source": [
    "#### point 2 and 3 are more tend to misclassify.\n",
    "#### Adding one hidden layer makes the model to learn the data better and hence accuracy increases from 85% to 91%.\n",
    "#### Further accuracy can be increased by optimizing number of hyperparameters such as number of neurons, number of hidden layers, epoch number, etc.\n",
    "#### However, if we increase number of hidden layers too much, there might be chances for model to be overfit."
   ]
  },
  {
   "cell_type": "code",
   "execution_count": null,
   "id": "4eddb7ba",
   "metadata": {},
   "outputs": [],
   "source": []
  },
  {
   "cell_type": "code",
   "execution_count": null,
   "id": "3bab511c",
   "metadata": {},
   "outputs": [],
   "source": []
  }
 ],
 "metadata": {
  "kernelspec": {
   "display_name": "Python 3 (ipykernel)",
   "language": "python",
   "name": "python3"
  },
  "language_info": {
   "codemirror_mode": {
    "name": "ipython",
    "version": 3
   },
   "file_extension": ".py",
   "mimetype": "text/x-python",
   "name": "python",
   "nbconvert_exporter": "python",
   "pygments_lexer": "ipython3",
   "version": "3.9.7"
  }
 },
 "nbformat": 4,
 "nbformat_minor": 5
}
