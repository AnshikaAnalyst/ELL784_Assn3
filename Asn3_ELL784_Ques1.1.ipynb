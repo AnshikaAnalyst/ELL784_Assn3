{
 "cells": [
  {
   "cell_type": "code",
   "execution_count": 1,
   "metadata": {
    "id": "bVdHz9hNbX9E"
   },
   "outputs": [],
   "source": [
    "import pandas as pd\n",
    "import numpy as np\n",
    "import tensorflow as tf\n",
    "from tensorflow import keras\n",
    "import matplotlib.pyplot as plt\n",
    "%matplotlib inline"
   ]
  },
  {
   "cell_type": "code",
   "execution_count": 2,
   "metadata": {
    "colab": {
     "base_uri": "https://localhost:8080/"
    },
    "id": "n1-loAHRbJ1M",
    "outputId": "5eeec5bc-5601-4697-db55-a711fc1e7a25"
   },
   "outputs": [
    {
     "data": {
      "text/plain": [
       "<bound method NDFrame.head of       0    1    2    3    4    5    6    7    8    9    ...  775  776  777  \\\n",
       "0       0    0    0    0    0    0    0    0    0    0  ...    0    0    0   \n",
       "1       0    0    0    0    0    0    0    0    0    0  ...    0    0    0   \n",
       "2       0    0    0    0    0    0    0    0    0    0  ...    0    0    0   \n",
       "3       0    0    0    0    0    0    0    0    0    0  ...    0    0    0   \n",
       "4       0    0    0    0    0    0    0    0    0    0  ...    0    0    0   \n",
       "...   ...  ...  ...  ...  ...  ...  ...  ...  ...  ...  ...  ...  ...  ...   \n",
       "2995    0    0    0    0    0    0    0    0    0    0  ...    0    0    0   \n",
       "2996    0    0    0    0    0    0    0    0    0    0  ...    0    0    0   \n",
       "2997    0    0    0    0    0    0    0    0    0    0  ...    0    0    0   \n",
       "2998    0    0    0    0    0    0    0    0    0    0  ...    0    0    0   \n",
       "2999    0    0    0    0    0    0    0    0    0    0  ...    0    0    0   \n",
       "\n",
       "      778  779  780  781  782  783  784  \n",
       "0       0    0    0    0    0    0    0  \n",
       "1       0    0    0    0    0    0    0  \n",
       "2       0    0    0    0    0    0    0  \n",
       "3       0    0    0    0    0    0    0  \n",
       "4       0    0    0    0    0    0    0  \n",
       "...   ...  ...  ...  ...  ...  ...  ...  \n",
       "2995    0    0    0    0    0    0    9  \n",
       "2996    0    0    0    0    0    0    9  \n",
       "2997    0    0    0    0    0    0    9  \n",
       "2998    0    0    0    0    0    0    9  \n",
       "2999    0    0    0    0    0    0    9  \n",
       "\n",
       "[3000 rows x 785 columns]>"
      ]
     },
     "execution_count": 2,
     "metadata": {},
     "output_type": "execute_result"
    }
   ],
   "source": [
    "df = pd.read_csv(r'C:\\Users\\garga\\3D Objects\\ELL784 Assn\\Assn3\\all.csv',header=None)\n",
    "df.head"
   ]
  },
  {
   "cell_type": "code",
   "execution_count": 3,
   "metadata": {
    "colab": {
     "base_uri": "https://localhost:8080/"
    },
    "id": "vmj8CvCRcQP_",
    "outputId": "efeed2ee-63e5-413e-cb35-9baa79100d63"
   },
   "outputs": [
    {
     "data": {
      "text/plain": [
       "<bound method NDFrame.head of       0    1    2    3    4    5    6    7    8    9    ...  774  775  776  \\\n",
       "0       0    0    0    0    0    0    0    0    0    0  ...    0    0    0   \n",
       "1       0    0    0    0    0    0    0    0    0    0  ...    0    0    0   \n",
       "2       0    0    0    0    0    0    0    0    0    0  ...    0    0    0   \n",
       "3       0    0    0    0    0    0    0    0    0    0  ...    0    0    0   \n",
       "4       0    0    0    0    0    0    0    0    0    0  ...    0    0    0   \n",
       "...   ...  ...  ...  ...  ...  ...  ...  ...  ...  ...  ...  ...  ...  ...   \n",
       "2995    0    0    0    0    0    0    0    0    0    0  ...    0    0    0   \n",
       "2996    0    0    0    0    0    0    0    0    0    0  ...    0    0    0   \n",
       "2997    0    0    0    0    0    0    0    0    0    0  ...    0    0    0   \n",
       "2998    0    0    0    0    0    0    0    0    0    0  ...    0    0    0   \n",
       "2999    0    0    0    0    0    0    0    0    0    0  ...    0    0    0   \n",
       "\n",
       "      777  778  779  780  781  782  783  \n",
       "0       0    0    0    0    0    0    0  \n",
       "1       0    0    0    0    0    0    0  \n",
       "2       0    0    0    0    0    0    0  \n",
       "3       0    0    0    0    0    0    0  \n",
       "4       0    0    0    0    0    0    0  \n",
       "...   ...  ...  ...  ...  ...  ...  ...  \n",
       "2995    0    0    0    0    0    0    0  \n",
       "2996    0    0    0    0    0    0    0  \n",
       "2997    0    0    0    0    0    0    0  \n",
       "2998    0    0    0    0    0    0    0  \n",
       "2999    0    0    0    0    0    0    0  \n",
       "\n",
       "[3000 rows x 784 columns]>"
      ]
     },
     "execution_count": 3,
     "metadata": {},
     "output_type": "execute_result"
    }
   ],
   "source": [
    "X = pd.DataFrame(df.iloc[:,0:784])\n",
    "X.head"
   ]
  },
  {
   "cell_type": "code",
   "execution_count": 4,
   "metadata": {
    "colab": {
     "base_uri": "https://localhost:8080/"
    },
    "id": "8fh6PYULeMs-",
    "outputId": "b3c54c2c-1258-4eed-9538-726a74a09871"
   },
   "outputs": [
    {
     "data": {
      "text/plain": [
       "<bound method NDFrame.head of       784\n",
       "0       0\n",
       "1       0\n",
       "2       0\n",
       "3       0\n",
       "4       0\n",
       "...   ...\n",
       "2995    9\n",
       "2996    9\n",
       "2997    9\n",
       "2998    9\n",
       "2999    9\n",
       "\n",
       "[3000 rows x 1 columns]>"
      ]
     },
     "execution_count": 4,
     "metadata": {},
     "output_type": "execute_result"
    }
   ],
   "source": [
    "y = pd.DataFrame(df.iloc[:,784])\n",
    "y.head"
   ]
  },
  {
   "cell_type": "code",
   "execution_count": 5,
   "metadata": {
    "id": "8UY4z_4hb0ko"
   },
   "outputs": [],
   "source": [
    "from sklearn.model_selection import train_test_split\n",
    "X_train, X_test, y_train, y_test = train_test_split(X, y, test_size=0.2, random_state = 2)\n"
   ]
  },
  {
   "cell_type": "code",
   "execution_count": 20,
   "metadata": {},
   "outputs": [
    {
     "data": {
      "text/plain": [
       "array([[0., 0., 0., ..., 0., 0., 0.],\n",
       "       [0., 0., 0., ..., 0., 0., 0.],\n",
       "       [0., 0., 0., ..., 0., 0., 0.],\n",
       "       ...,\n",
       "       [0., 0., 0., ..., 0., 0., 0.],\n",
       "       [0., 0., 0., ..., 0., 0., 0.],\n",
       "       [0., 0., 0., ..., 0., 0., 0.]])"
      ]
     },
     "execution_count": 20,
     "metadata": {},
     "output_type": "execute_result"
    }
   ],
   "source": [
    "X_train"
   ]
  },
  {
   "cell_type": "code",
   "execution_count": 6,
   "metadata": {
    "id": "O5kqyLtifcAu"
   },
   "outputs": [],
   "source": [
    "#Normalizing features\n",
    "X_train = X_train / 255\n",
    "X_test = X_test / 255\n"
   ]
  },
  {
   "cell_type": "code",
   "execution_count": 7,
   "metadata": {
    "colab": {
     "base_uri": "https://localhost:8080/"
    },
    "id": "35SMF6dGfdzN",
    "outputId": "c0912f6d-c294-4cf7-a58b-14430130d91b"
   },
   "outputs": [
    {
     "data": {
      "text/plain": [
       "(2400, 784)"
      ]
     },
     "execution_count": 7,
     "metadata": {},
     "output_type": "execute_result"
    }
   ],
   "source": [
    "X_train = np.array(X_train)\n",
    "X_test = np.array(X_test)\n",
    "X_train.shape"
   ]
  },
  {
   "cell_type": "code",
   "execution_count": 8,
   "metadata": {
    "colab": {
     "base_uri": "https://localhost:8080/"
    },
    "id": "G5efBXXbgOj_",
    "outputId": "02d6a5b2-0855-446c-cbf7-e3a43fdafb29"
   },
   "outputs": [
    {
     "name": "stdout",
     "output_type": "stream",
     "text": [
      "Epoch 1/80\n",
      "75/75 [==============================] - 0s 1ms/step - loss: 1.6199 - accuracy: 0.5587\n",
      "Epoch 2/80\n",
      "75/75 [==============================] - 0s 1ms/step - loss: 0.8968 - accuracy: 0.8154\n",
      "Epoch 3/80\n",
      "75/75 [==============================] - 0s 1ms/step - loss: 0.6729 - accuracy: 0.8558\n",
      "Epoch 4/80\n",
      "75/75 [==============================] - 0s 1ms/step - loss: 0.5674 - accuracy: 0.8754\n",
      "Epoch 5/80\n",
      "75/75 [==============================] - 0s 1ms/step - loss: 0.5025 - accuracy: 0.8829\n",
      "Epoch 6/80\n",
      "75/75 [==============================] - 0s 1ms/step - loss: 0.4586 - accuracy: 0.8875\n",
      "Epoch 7/80\n",
      "75/75 [==============================] - 0s 1ms/step - loss: 0.4262 - accuracy: 0.8971\n",
      "Epoch 8/80\n",
      "75/75 [==============================] - 0s 1ms/step - loss: 0.4002 - accuracy: 0.9017\n",
      "Epoch 9/80\n",
      "75/75 [==============================] - 0s 1ms/step - loss: 0.3781 - accuracy: 0.9108\n",
      "Epoch 10/80\n",
      "75/75 [==============================] - 0s 1ms/step - loss: 0.3607 - accuracy: 0.9112\n",
      "Epoch 11/80\n",
      "75/75 [==============================] - 0s 1ms/step - loss: 0.3458 - accuracy: 0.9162\n",
      "Epoch 12/80\n",
      "75/75 [==============================] - 0s 1ms/step - loss: 0.3312 - accuracy: 0.9183\n",
      "Epoch 13/80\n",
      "75/75 [==============================] - 0s 1ms/step - loss: 0.3199 - accuracy: 0.9208\n",
      "Epoch 14/80\n",
      "75/75 [==============================] - 0s 1ms/step - loss: 0.3093 - accuracy: 0.9262\n",
      "Epoch 15/80\n",
      "75/75 [==============================] - 0s 1ms/step - loss: 0.2983 - accuracy: 0.9287\n",
      "Epoch 16/80\n",
      "75/75 [==============================] - 0s 1ms/step - loss: 0.2899 - accuracy: 0.9258\n",
      "Epoch 17/80\n",
      "75/75 [==============================] - 0s 1ms/step - loss: 0.2820 - accuracy: 0.9304\n",
      "Epoch 18/80\n",
      "75/75 [==============================] - 0s 1ms/step - loss: 0.2739 - accuracy: 0.9333\n",
      "Epoch 19/80\n",
      "75/75 [==============================] - 0s 1ms/step - loss: 0.2665 - accuracy: 0.9342\n",
      "Epoch 20/80\n",
      "75/75 [==============================] - 0s 1ms/step - loss: 0.2591 - accuracy: 0.9371\n",
      "Epoch 21/80\n",
      "75/75 [==============================] - 0s 1ms/step - loss: 0.2524 - accuracy: 0.9379\n",
      "Epoch 22/80\n",
      "75/75 [==============================] - 0s 1ms/step - loss: 0.2458 - accuracy: 0.9383\n",
      "Epoch 23/80\n",
      "75/75 [==============================] - 0s 1ms/step - loss: 0.2411 - accuracy: 0.9400\n",
      "Epoch 24/80\n",
      "75/75 [==============================] - 0s 1ms/step - loss: 0.2362 - accuracy: 0.9408\n",
      "Epoch 25/80\n",
      "75/75 [==============================] - 0s 1ms/step - loss: 0.2295 - accuracy: 0.9417\n",
      "Epoch 26/80\n",
      "75/75 [==============================] - 0s 1ms/step - loss: 0.2236 - accuracy: 0.9450\n",
      "Epoch 27/80\n",
      "75/75 [==============================] - 0s 1ms/step - loss: 0.2196 - accuracy: 0.9492\n",
      "Epoch 28/80\n",
      "75/75 [==============================] - 0s 1ms/step - loss: 0.2153 - accuracy: 0.9488\n",
      "Epoch 29/80\n",
      "75/75 [==============================] - 0s 1ms/step - loss: 0.2109 - accuracy: 0.9508\n",
      "Epoch 30/80\n",
      "75/75 [==============================] - 0s 985us/step - loss: 0.2057 - accuracy: 0.9525\n",
      "Epoch 31/80\n",
      "75/75 [==============================] - 0s 1ms/step - loss: 0.2026 - accuracy: 0.9538\n",
      "Epoch 32/80\n",
      "75/75 [==============================] - 0s 1ms/step - loss: 0.1976 - accuracy: 0.9529\n",
      "Epoch 33/80\n",
      "75/75 [==============================] - 0s 1ms/step - loss: 0.1939 - accuracy: 0.9542\n",
      "Epoch 34/80\n",
      "75/75 [==============================] - 0s 1ms/step - loss: 0.1898 - accuracy: 0.9592\n",
      "Epoch 35/80\n",
      "75/75 [==============================] - 0s 1ms/step - loss: 0.1867 - accuracy: 0.9558\n",
      "Epoch 36/80\n",
      "75/75 [==============================] - 0s 1ms/step - loss: 0.1830 - accuracy: 0.9604\n",
      "Epoch 37/80\n",
      "75/75 [==============================] - 0s 1ms/step - loss: 0.1796 - accuracy: 0.9596\n",
      "Epoch 38/80\n",
      "75/75 [==============================] - 0s 1ms/step - loss: 0.1766 - accuracy: 0.9596\n",
      "Epoch 39/80\n",
      "75/75 [==============================] - 0s 1ms/step - loss: 0.1732 - accuracy: 0.9633\n",
      "Epoch 40/80\n",
      "75/75 [==============================] - 0s 1ms/step - loss: 0.1709 - accuracy: 0.9608\n",
      "Epoch 41/80\n",
      "75/75 [==============================] - 0s 1ms/step - loss: 0.1673 - accuracy: 0.9638\n",
      "Epoch 42/80\n",
      "75/75 [==============================] - 0s 974us/step - loss: 0.1638 - accuracy: 0.9671\n",
      "Epoch 43/80\n",
      "75/75 [==============================] - 0s 1ms/step - loss: 0.1609 - accuracy: 0.9671\n",
      "Epoch 44/80\n",
      "75/75 [==============================] - 0s 1ms/step - loss: 0.1570 - accuracy: 0.9663\n",
      "Epoch 45/80\n",
      "75/75 [==============================] - 0s 1ms/step - loss: 0.1549 - accuracy: 0.9704\n",
      "Epoch 46/80\n",
      "75/75 [==============================] - 0s 1ms/step - loss: 0.1523 - accuracy: 0.9679\n",
      "Epoch 47/80\n",
      "75/75 [==============================] - 0s 1ms/step - loss: 0.1498 - accuracy: 0.9688\n",
      "Epoch 48/80\n",
      "75/75 [==============================] - 0s 1ms/step - loss: 0.1468 - accuracy: 0.9688\n",
      "Epoch 49/80\n",
      "75/75 [==============================] - 0s 1ms/step - loss: 0.1446 - accuracy: 0.9696\n",
      "Epoch 50/80\n",
      "75/75 [==============================] - 0s 1ms/step - loss: 0.1418 - accuracy: 0.9692\n",
      "Epoch 51/80\n",
      "75/75 [==============================] - 0s 1ms/step - loss: 0.1390 - accuracy: 0.9717\n",
      "Epoch 52/80\n",
      "75/75 [==============================] - 0s 1ms/step - loss: 0.1364 - accuracy: 0.9725\n",
      "Epoch 53/80\n",
      "75/75 [==============================] - 0s 1ms/step - loss: 0.1344 - accuracy: 0.9725\n",
      "Epoch 54/80\n",
      "75/75 [==============================] - 0s 1ms/step - loss: 0.1329 - accuracy: 0.9742\n",
      "Epoch 55/80\n",
      "75/75 [==============================] - 0s 969us/step - loss: 0.1314 - accuracy: 0.9746\n",
      "Epoch 56/80\n",
      "75/75 [==============================] - 0s 1ms/step - loss: 0.1291 - accuracy: 0.9750\n",
      "Epoch 57/80\n",
      "75/75 [==============================] - 0s 975us/step - loss: 0.1265 - accuracy: 0.9767\n",
      "Epoch 58/80\n",
      "75/75 [==============================] - 0s 1ms/step - loss: 0.1236 - accuracy: 0.9754\n",
      "Epoch 59/80\n",
      "75/75 [==============================] - 0s 1ms/step - loss: 0.1222 - accuracy: 0.9783\n",
      "Epoch 60/80\n",
      "75/75 [==============================] - 0s 1ms/step - loss: 0.1203 - accuracy: 0.9762\n",
      "Epoch 61/80\n",
      "75/75 [==============================] - 0s 993us/step - loss: 0.1176 - accuracy: 0.9779\n",
      "Epoch 62/80\n",
      "75/75 [==============================] - 0s 1ms/step - loss: 0.1155 - accuracy: 0.9779\n",
      "Epoch 63/80\n",
      "75/75 [==============================] - 0s 1ms/step - loss: 0.1134 - accuracy: 0.9787\n",
      "Epoch 64/80\n",
      "75/75 [==============================] - 0s 980us/step - loss: 0.1117 - accuracy: 0.9808\n",
      "Epoch 65/80\n",
      "75/75 [==============================] - 0s 999us/step - loss: 0.1104 - accuracy: 0.9812\n",
      "Epoch 66/80\n",
      "75/75 [==============================] - 0s 988us/step - loss: 0.1082 - accuracy: 0.9833\n",
      "Epoch 67/80\n",
      "75/75 [==============================] - 0s 951us/step - loss: 0.1067 - accuracy: 0.9808\n",
      "Epoch 68/80\n",
      "75/75 [==============================] - 0s 966us/step - loss: 0.1048 - accuracy: 0.9829\n",
      "Epoch 69/80\n",
      "75/75 [==============================] - 0s 1ms/step - loss: 0.1030 - accuracy: 0.9833\n",
      "Epoch 70/80\n",
      "75/75 [==============================] - 0s 994us/step - loss: 0.1016 - accuracy: 0.9842\n",
      "Epoch 71/80\n",
      "75/75 [==============================] - 0s 996us/step - loss: 0.0996 - accuracy: 0.9854\n",
      "Epoch 72/80\n",
      "75/75 [==============================] - 0s 1000us/step - loss: 0.0984 - accuracy: 0.9821\n",
      "Epoch 73/80\n",
      "75/75 [==============================] - 0s 993us/step - loss: 0.0968 - accuracy: 0.9846\n",
      "Epoch 74/80\n",
      "75/75 [==============================] - 0s 994us/step - loss: 0.0957 - accuracy: 0.9837\n",
      "Epoch 75/80\n",
      "75/75 [==============================] - 0s 1ms/step - loss: 0.0932 - accuracy: 0.9858\n",
      "Epoch 76/80\n",
      "75/75 [==============================] - 0s 989us/step - loss: 0.0924 - accuracy: 0.9867\n",
      "Epoch 77/80\n",
      "75/75 [==============================] - 0s 999us/step - loss: 0.0908 - accuracy: 0.9858\n",
      "Epoch 78/80\n",
      "75/75 [==============================] - 0s 1ms/step - loss: 0.0887 - accuracy: 0.9879\n",
      "Epoch 79/80\n",
      "75/75 [==============================] - 0s 994us/step - loss: 0.0877 - accuracy: 0.9879\n",
      "Epoch 80/80\n",
      "75/75 [==============================] - 0s 1ms/step - loss: 0.0860 - accuracy: 0.9887\n"
     ]
    },
    {
     "data": {
      "text/plain": [
       "<keras.callbacks.History at 0x1c157c97bb0>"
      ]
     },
     "execution_count": 8,
     "metadata": {},
     "output_type": "execute_result"
    }
   ],
   "source": [
    "model = keras.Sequential([\n",
    "    keras.layers.Dense(10, input_shape=(784,), activation='sigmoid')\n",
    "])\n",
    "\n",
    "model.compile(optimizer='adam',\n",
    "              loss='sparse_categorical_crossentropy',\n",
    "              metrics=['accuracy'])\n",
    "\n",
    "model.fit(X_train, y_train, epochs=80)"
   ]
  },
  {
   "cell_type": "code",
   "execution_count": 9,
   "metadata": {
    "colab": {
     "base_uri": "https://localhost:8080/"
    },
    "id": "ZYHNMh2zhPVl",
    "outputId": "e1499e24-baa3-43bb-e841-9bb8c71156aa"
   },
   "outputs": [
    {
     "name": "stdout",
     "output_type": "stream",
     "text": [
      "19/19 [==============================] - 0s 1ms/step - loss: 0.4560 - accuracy: 0.8650\n"
     ]
    },
    {
     "data": {
      "text/plain": [
       "[0.4559858739376068, 0.8650000095367432]"
      ]
     },
     "execution_count": 9,
     "metadata": {},
     "output_type": "execute_result"
    }
   ],
   "source": [
    "model.evaluate(X_test, y_test)\n"
   ]
  },
  {
   "cell_type": "code",
   "execution_count": 10,
   "metadata": {},
   "outputs": [
    {
     "name": "stdout",
     "output_type": "stream",
     "text": [
      "19/19 [==============================] - 0s 2ms/step\n"
     ]
    }
   ],
   "source": [
    "y_predicted=model.predict(X_test)"
   ]
  },
  {
   "cell_type": "code",
   "execution_count": 11,
   "metadata": {
    "id": "2S1QAcQXhjH5"
   },
   "outputs": [],
   "source": [
    "y_predicted_labels = [np.argmax(i) for i in y_predicted]\n"
   ]
  },
  {
   "cell_type": "code",
   "execution_count": 12,
   "metadata": {
    "colab": {
     "base_uri": "https://localhost:8080/"
    },
    "id": "T6dyMrn9hoKh",
    "outputId": "dd1c4dcd-4bf1-4ca9-be86-ac792cc1a46c"
   },
   "outputs": [
    {
     "data": {
      "text/plain": [
       "<tf.Tensor: shape=(10, 10), dtype=int32, numpy=\n",
       "array([[66,  0,  0,  0,  0,  3,  0,  0,  1,  1],\n",
       "       [ 0, 55,  0,  0,  0,  0,  0,  0,  0,  0],\n",
       "       [ 0,  1, 39,  4,  1,  0,  1,  3,  0,  0],\n",
       "       [ 0,  1,  1, 47,  1,  1,  1,  0,  2,  0],\n",
       "       [ 1,  0,  0,  0, 51,  0,  3,  1,  0,  7],\n",
       "       [ 0,  0,  2,  2,  0, 55,  1,  0,  4,  0],\n",
       "       [ 0,  0,  2,  0,  0,  0, 56,  0,  3,  0],\n",
       "       [ 0,  0,  1,  0,  2,  0,  0, 60,  0,  0],\n",
       "       [ 1,  0,  3,  1,  1,  8,  1,  1, 41,  2],\n",
       "       [ 0,  0,  0,  3,  1,  2,  0,  6,  0, 49]])>"
      ]
     },
     "execution_count": 12,
     "metadata": {},
     "output_type": "execute_result"
    }
   ],
   "source": [
    "cm = tf.math.confusion_matrix(labels=y_test,predictions=y_predicted_labels)\n",
    "cm"
   ]
  },
  {
   "cell_type": "code",
   "execution_count": 13,
   "metadata": {
    "colab": {
     "base_uri": "https://localhost:8080/",
     "height": 459
    },
    "id": "B9Pkyjoqhrjo",
    "outputId": "b632fc98-3831-4065-a4a9-7b2cc7cd7824"
   },
   "outputs": [
    {
     "data": {
      "text/plain": [
       "Text(69.0, 0.5, 'Truth')"
      ]
     },
     "execution_count": 13,
     "metadata": {},
     "output_type": "execute_result"
    },
    {
     "data": {
      "image/png": "[encoded data removed]",
      "text/plain": [
       "<Figure size 720x504 with 2 Axes>"
      ]
     },
     "metadata": {
      "needs_background": "light"
     },
     "output_type": "display_data"
    }
   ],
   "source": [
    "import seaborn as sn\n",
    "plt.figure(figsize = (10,7))\n",
    "sn.heatmap(cm, annot=True, fmt='d')\n",
    "plt.xlabel('Predicted')\n",
    "plt.ylabel('Truth')"
   ]
  },
  {
   "cell_type": "code",
   "execution_count": 14,
   "metadata": {
    "colab": {
     "base_uri": "https://localhost:8080/"
    },
    "id": "2gZvXPRxhvXR",
    "outputId": "45aa64fc-be74-4556-fdcf-d1f677650fa4"
   },
   "outputs": [
    {
     "data": {
      "text/plain": [
       "(600, 784)"
      ]
     },
     "execution_count": 14,
     "metadata": {},
     "output_type": "execute_result"
    }
   ],
   "source": [
    "X_test.shape"
   ]
  },
  {
   "cell_type": "code",
   "execution_count": 15,
   "metadata": {
    "colab": {
     "base_uri": "https://localhost:8080/"
    },
    "id": "PIRc4oiJh1vX",
    "outputId": "7a549f4a-ccc0-4b63-b9dc-c4e2cf8da127"
   },
   "outputs": [
    {
     "data": {
      "text/plain": [
       "(600, 1)"
      ]
     },
     "execution_count": 15,
     "metadata": {},
     "output_type": "execute_result"
    }
   ],
   "source": [
    "y_test.shape"
   ]
  },
  {
   "cell_type": "code",
   "execution_count": 16,
   "metadata": {
    "colab": {
     "base_uri": "https://localhost:8080/"
    },
    "id": "KNpFUqQhh4AG",
    "outputId": "543efbfc-b7ca-42ec-a96b-822e4503d3bc"
   },
   "outputs": [
    {
     "data": {
      "text/plain": [
       "600"
      ]
     },
     "execution_count": 16,
     "metadata": {},
     "output_type": "execute_result"
    }
   ],
   "source": [
    "len(y_predicted_labels)"
   ]
  },
  {
   "cell_type": "code",
   "execution_count": null,
   "metadata": {
    "id": "Zx4sgr2siDFu"
   },
   "outputs": [],
   "source": []
  },
  {
   "cell_type": "code",
   "execution_count": 17,
   "metadata": {
    "colab": {
     "base_uri": "https://localhost:8080/"
    },
    "id": "D_6h7Mdoh52B",
    "outputId": "d0f91629-887e-4fef-c37e-167cf673577f"
   },
   "outputs": [
    {
     "name": "stdout",
     "output_type": "stream",
     "text": [
      "Epoch 1/15\n",
      "75/75 [==============================] - 1s 2ms/step - loss: 1.1735 - accuracy: 0.6575\n",
      "Epoch 2/15\n",
      "75/75 [==============================] - 0s 2ms/step - loss: 0.4160 - accuracy: 0.8712\n",
      "Epoch 3/15\n",
      "75/75 [==============================] - 0s 2ms/step - loss: 0.2603 - accuracy: 0.9221\n",
      "Epoch 4/15\n",
      "75/75 [==============================] - 0s 2ms/step - loss: 0.1920 - accuracy: 0.9425\n",
      "Epoch 5/15\n",
      "75/75 [==============================] - 0s 2ms/step - loss: 0.1255 - accuracy: 0.9638\n",
      "Epoch 6/15\n",
      "75/75 [==============================] - 0s 2ms/step - loss: 0.1005 - accuracy: 0.9717\n",
      "Epoch 7/15\n",
      "75/75 [==============================] - 0s 2ms/step - loss: 0.0610 - accuracy: 0.9804\n",
      "Epoch 8/15\n",
      "75/75 [==============================] - 0s 2ms/step - loss: 0.0484 - accuracy: 0.9862\n",
      "Epoch 9/15\n",
      "75/75 [==============================] - 0s 2ms/step - loss: 0.0245 - accuracy: 0.9962\n",
      "Epoch 10/15\n",
      "75/75 [==============================] - 0s 2ms/step - loss: 0.0150 - accuracy: 0.9967\n",
      "Epoch 11/15\n",
      "75/75 [==============================] - 0s 2ms/step - loss: 0.0066 - accuracy: 0.9996\n",
      "Epoch 12/15\n",
      "75/75 [==============================] - 0s 2ms/step - loss: 0.0028 - accuracy: 1.0000\n",
      "Epoch 13/15\n",
      "75/75 [==============================] - 0s 2ms/step - loss: 0.0015 - accuracy: 1.0000\n",
      "Epoch 14/15\n",
      "75/75 [==============================] - 0s 1ms/step - loss: 0.0011 - accuracy: 1.0000\n",
      "Epoch 15/15\n",
      "75/75 [==============================] - 0s 2ms/step - loss: 8.9274e-04 - accuracy: 1.0000\n"
     ]
    },
    {
     "data": {
      "text/plain": [
       "<keras.callbacks.History at 0x1c1590f9fa0>"
      ]
     },
     "execution_count": 17,
     "metadata": {},
     "output_type": "execute_result"
    }
   ],
   "source": [
    "model2 = keras.Sequential([\n",
    "    keras.layers.Dense(100, input_shape=(784,), activation='relu'),\n",
    "    keras.layers.Dense(100 , activation='relu'),\n",
    "    keras.layers.Dense(100 , activation='relu'),\n",
    "    keras.layers.Dense(100 , activation='relu'),\n",
    "    keras.layers.Dense(10, activation='sigmoid')\n",
    "])\n",
    "\n",
    "model2.compile(optimizer='adam',\n",
    "              loss='sparse_categorical_crossentropy',\n",
    "              metrics=['accuracy'])\n",
    "\n",
    "model2.fit(X_train, y_train, epochs=15)"
   ]
  },
  {
   "cell_type": "code",
   "execution_count": 18,
   "metadata": {
    "colab": {
     "base_uri": "https://localhost:8080/"
    },
    "id": "iDFOrsjajurX",
    "outputId": "2842929a-1e0f-402c-f3a7-4e84bb2ad7ed"
   },
   "outputs": [
    {
     "name": "stdout",
     "output_type": "stream",
     "text": [
      "19/19 [==============================] - 0s 1ms/step - loss: 0.4254 - accuracy: 0.9117\n"
     ]
    },
    {
     "data": {
      "text/plain": [
       "[0.4253714978694916, 0.9116666913032532]"
      ]
     },
     "execution_count": 18,
     "metadata": {},
     "output_type": "execute_result"
    }
   ],
   "source": [
    "model2.evaluate(X_test,y_test)\n"
   ]
  },
  {
   "cell_type": "code",
   "execution_count": 19,
   "metadata": {
    "colab": {
     "base_uri": "https://localhost:8080/",
     "height": 477
    },
    "id": "w5t81nOliqkc",
    "outputId": "a96d4958-f9f5-4637-da2d-f5c352dc4204"
   },
   "outputs": [
    {
     "name": "stdout",
     "output_type": "stream",
     "text": [
      "19/19 [==============================] - 0s 2ms/step\n"
     ]
    },
    {
     "data": {
      "text/plain": [
       "Text(69.0, 0.5, 'Truth')"
      ]
     },
     "execution_count": 19,
     "metadata": {},
     "output_type": "execute_result"
    },
    {
     "data": {
      "image/png": "[encoded data removed]",
      "text/plain": [
       "<Figure size 720x504 with 2 Axes>"
      ]
     },
     "metadata": {
      "needs_background": "light"
     },
     "output_type": "display_data"
    }
   ],
   "source": [
    "y_predicted = model2.predict(X_test)\n",
    "y_predicted_labels = [np.argmax(i) for i in y_predicted]\n",
    "cm = tf.math.confusion_matrix(labels=y_test,predictions=y_predicted_labels)\n",
    "\n",
    "plt.figure(figsize = (10,7))\n",
    "sn.heatmap(cm, annot=True, fmt='d')\n",
    "plt.xlabel('Predicted')\n",
    "plt.ylabel('Truth')"
   ]
  },
  {
   "cell_type": "code",
   "execution_count": null,
   "metadata": {
    "id": "0semIyGpjqIZ"
   },
   "outputs": [],
   "source": []
  }
 ],
 "metadata": {
  "colab": {
   "provenance": []
  },
  "kernelspec": {
   "display_name": "Python 3 (ipykernel)",
   "language": "python",
   "name": "python3"
  },
  "language_info": {
   "codemirror_mode": {
    "name": "ipython",
    "version": 3
   },
   "file_extension": ".py",
   "mimetype": "text/x-python",
   "name": "python",
   "nbconvert_exporter": "python",
   "pygments_lexer": "ipython3",
   "version": "3.9.7"
  }
 },
 "nbformat": 4,
 "nbformat_minor": 1
}
